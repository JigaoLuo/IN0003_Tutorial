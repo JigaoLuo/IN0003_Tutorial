{
 "cells": [
  {
   "cell_type": "code",
   "execution_count": 1,
   "metadata": {},
   "outputs": [
    {
     "data": {
      "text/plain": [
       "module Paris :\n",
       "  sig\n",
       "    type 'a pair = 'a * 'a\n",
       "    val pair : 'a * 'b -> 'a * 'b\n",
       "    val first : 'a * 'b -> 'a\n",
       "    val second : 'a * 'b -> 'b\n",
       "  end\n"
      ]
     },
     "execution_count": 1,
     "metadata": {},
     "output_type": "execute_result"
    },
    {
     "data": {
      "text/plain": [
       "- : 'a * 'b -> 'a = <fun>\n"
      ]
     },
     "execution_count": 1,
     "metadata": {},
     "output_type": "execute_result"
    },
    {
     "data": {
      "text/plain": [
       "val p : int * int = (1, 2)\n"
      ]
     },
     "execution_count": 1,
     "metadata": {},
     "output_type": "execute_result"
    },
    {
     "data": {
      "text/plain": [
       "- : int = 1\n"
      ]
     },
     "execution_count": 1,
     "metadata": {},
     "output_type": "execute_result"
    },
    {
     "data": {
      "text/plain": [
       "- : ('a -> 'b) -> 'a list -> 'b list = <fun>\n"
      ]
     },
     "execution_count": 1,
     "metadata": {},
     "output_type": "execute_result"
    }
   ],
   "source": [
    "module Paris =\n",
    "  struct\n",
    "    type 'a pair = 'a * 'a\n",
    "    let pair (a, b) = (a, b)\n",
    "    let first (a, b) = a\n",
    "    let second (a, b) = b\n",
    "  end;;\n",
    "\n",
    "  Paris.first;;\n",
    "  let p = Paris.pair (1, 2);;\n",
    "  Paris.first p;;\n",
    "  List.map;;"
   ]
  },
  {
   "cell_type": "code",
   "execution_count": 2,
   "metadata": {},
   "outputs": [
    {
     "data": {
      "text/plain": [
       "module Paris2 :\n",
       "  sig\n",
       "    type 'a pair = bool -> 'a\n",
       "    val pair : 'a * 'a -> bool -> 'a\n",
       "    val first : (bool -> 'a) -> 'a\n",
       "    val second : (bool -> 'a) -> 'a\n",
       "  end\n"
      ]
     },
     "execution_count": 2,
     "metadata": {},
     "output_type": "execute_result"
    },
    {
     "data": {
      "text/plain": [
       "- : 'a * 'a -> bool -> 'a = <fun>\n"
      ]
     },
     "execution_count": 2,
     "metadata": {},
     "output_type": "execute_result"
    },
    {
     "data": {
      "text/plain": [
       "- : int = 4\n"
      ]
     },
     "execution_count": 2,
     "metadata": {},
     "output_type": "execute_result"
    },
    {
     "data": {
      "text/plain": [
       "- : ('a -> 'b) -> 'a list -> 'b list = <fun>\n"
      ]
     },
     "execution_count": 2,
     "metadata": {},
     "output_type": "execute_result"
    },
    {
     "data": {
      "text/plain": [
       "- : ('a -> 'b -> 'a) -> 'a -> 'b list -> 'a = <fun>\n"
      ]
     },
     "execution_count": 2,
     "metadata": {},
     "output_type": "execute_result"
    }
   ],
   "source": [
    "module Paris2 =\n",
    "  struct\n",
    "    type 'a pair = bool -> 'a\n",
    "    let pair (a, b) = fun x -> if x then a else b\n",
    "    let first ab = ab true\n",
    "    let second ab = ab false\n",
    "  end;;\n",
    "\n",
    "open Paris2;;\n",
    "pair;;\n",
    "pair (4, 3) true;;\n",
    "\n",
    "open List;;\n",
    "map;;\n",
    "fold_left;;"
   ]
  },
  {
   "cell_type": "markdown",
   "metadata": {},
   "source": [
    "We model sets of values using modules with signature\n",
    "\n",
    "Furthermore, we define a signature for maps (mappings from keys to values):\n"
   ]
  },
  {
   "cell_type": "code",
   "execution_count": null,
   "metadata": {},
   "outputs": [],
   "source": [
    "module type Set = sig\n",
    "  type t\n",
    "  val to_string : t -> string\n",
    "end\n",
    "\n",
    "module type Map = sig\n",
    "  type key\n",
    "  type value\n",
    "  type t\n",
    "\n",
    "  val empty : t\n",
    "  val set : key -> value -> t -> t\n",
    "  val get : key -> t -> value\n",
    "  val get_opt : key -> t -> value option\n",
    "  (* val clear : key -> t -> t *)\n",
    "  val to_string : t -> string\n",
    "end"
   ]
  },
  {
   "cell_type": "markdown",
   "metadata": {},
   "source": [
    "Where the functions have the following semantics:\n",
    "- set updates the mapping such that key is now mapped to value.\n",
    "- get retrieves the value for the given key and throws a `Not_found` exception if no\n",
    "such key exists in the map.\n",
    "- get_opt retrieves the value for the given key or `None` if the key does not exist.\n",
    "- to_string produces a string representation for the mapping, e.g.:\n",
    "`\"{ 1 -> \\\"x\\\", 5 -> \\\"y\\\" }\"`\n",
    "\n",
    "Perform these tasks:\n",
    "\n",
    "\n",
    "Hint: If a module’s signature is too abstract to be used with concrete values, make use of sharing constraints."
   ]
  },
  {
   "cell_type": "markdown",
   "metadata": {},
   "source": [
    "1. Implement a module `StringSet` of signature `Set` to model sets of strings."
   ]
  },
  {
   "cell_type": "code",
   "execution_count": 5,
   "metadata": {},
   "outputs": [
    {
     "data": {
      "text/plain": [
       "module type Set = sig type t val to_string : t -> string end\n"
      ]
     },
     "execution_count": 5,
     "metadata": {},
     "output_type": "execute_result"
    }
   ],
   "source": [
    "module type Set = sig\n",
    "  type t\n",
    "  val to_string : t -> string\n",
    "end"
   ]
  },
  {
   "cell_type": "code",
   "execution_count": 6,
   "metadata": {},
   "outputs": [
    {
     "data": {
      "text/plain": [
       "module StringSet : sig type t = string val to_string : t -> string end\n"
      ]
     },
     "execution_count": 6,
     "metadata": {},
     "output_type": "execute_result"
    }
   ],
   "source": [
    "module StringSet : Set with type t = string = struct\n",
    "  type t = string\n",
    "  let to_string s = \"\\\"\" ^ s ^ \"\\\"\"\n",
    "end"
   ]
  },
  {
   "cell_type": "code",
   "execution_count": 8,
   "metadata": {},
   "outputs": [
    {
     "data": {
      "text/plain": [
       "- : StringSet.t -> string = <fun>\n"
      ]
     },
     "execution_count": 8,
     "metadata": {},
     "output_type": "execute_result"
    },
    {
     "data": {
      "text/plain": [
       "- : string = \"\\\"this is a module\\\"\"\n"
      ]
     },
     "execution_count": 8,
     "metadata": {},
     "output_type": "execute_result"
    }
   ],
   "source": [
    "StringSet.to_string;;\n",
    "StringSet.to_string \"this is a module\";;"
   ]
  },
  {
   "cell_type": "code",
   "execution_count": 8,
   "metadata": {},
   "outputs": [
    {
     "data": {
      "text/plain": [
       "- : string = \"\\\"string\\\"\"\n"
      ]
     },
     "execution_count": 8,
     "metadata": {},
     "output_type": "execute_result"
    }
   ],
   "source": [
    "StringSet.to_string \"string\";;"
   ]
  },
  {
   "cell_type": "markdown",
   "metadata": {},
   "source": [
    "$2$. Define a signature `OrderedSet` that extends the `Set` signature by a **compare** function with the usual type.\n",
    "\n",
    "the keyword `include` allows to include the definitions of another\n",
    "module into the present module ..."
   ]
  },
  {
   "cell_type": "code",
   "execution_count": 13,
   "metadata": {},
   "outputs": [
    {
     "data": {
      "text/plain": [
       "module A : sig val x : int end\n"
      ]
     },
     "execution_count": 13,
     "metadata": {},
     "output_type": "execute_result"
    },
    {
     "data": {
      "text/plain": [
       "module B : sig val y : int end\n"
      ]
     },
     "execution_count": 13,
     "metadata": {},
     "output_type": "execute_result"
    },
    {
     "data": {
      "text/plain": [
       "module C : sig val x : int val y : int end\n"
      ]
     },
     "execution_count": 13,
     "metadata": {},
     "output_type": "execute_result"
    },
    {
     "data": {
      "text/plain": [
       "- : 'a -> 'a -> int = <fun>\n"
      ]
     },
     "execution_count": 13,
     "metadata": {},
     "output_type": "execute_result"
    },
    {
     "data": {
      "text/plain": [
       "- : int = -1\n"
      ]
     },
     "execution_count": 13,
     "metadata": {},
     "output_type": "execute_result"
    }
   ],
   "source": [
    "(* Review *)\n",
    "module A = struct let x = 1 end;;\n",
    "\n",
    "module B = struct\n",
    "  open A (*but not use it, save the modul name*)\n",
    "  let y = 2\n",
    "end;;\n",
    "\n",
    "module C = struct\n",
    "  include A (* like C to include the head file*)\n",
    "  include B\n",
    "end;;"
   ]
  },
  {
   "cell_type": "code",
   "execution_count": 20,
   "metadata": {},
   "outputs": [
    {
     "data": {
      "text/plain": [
       "module type Set = sig type t val to_string : t -> string end\n"
      ]
     },
     "execution_count": 20,
     "metadata": {},
     "output_type": "execute_result"
    },
    {
     "data": {
      "text/plain": [
       "module type OrderedSet =\n",
       "  sig type t val to_string : t -> string val compare : t -> t -> int end\n"
      ]
     },
     "execution_count": 20,
     "metadata": {},
     "output_type": "execute_result"
    },
    {
     "data": {
      "text/plain": [
       "module IntSet :\n",
       "  sig\n",
       "    type t = int\n",
       "    val to_string : t -> string\n",
       "    val compare : t -> t -> int\n",
       "  end\n"
      ]
     },
     "execution_count": 20,
     "metadata": {},
     "output_type": "execute_result"
    },
    {
     "data": {
      "text/plain": [
       "- : int = -1\n"
      ]
     },
     "execution_count": 20,
     "metadata": {},
     "output_type": "execute_result"
    },
    {
     "data": {
      "text/plain": [
       "- : int = 1\n"
      ]
     },
     "execution_count": 20,
     "metadata": {},
     "output_type": "execute_result"
    },
    {
     "data": {
      "text/plain": [
       "- : int = 0\n"
      ]
     },
     "execution_count": 20,
     "metadata": {},
     "output_type": "execute_result"
    },
    {
     "data": {
      "text/plain": [
       "- : IntSet.t -> IntSet.t -> int = <fun>\n"
      ]
     },
     "execution_count": 20,
     "metadata": {},
     "output_type": "execute_result"
    },
    {
     "data": {
      "text/plain": [
       "- : string = \"8\"\n"
      ]
     },
     "execution_count": 20,
     "metadata": {},
     "output_type": "execute_result"
    }
   ],
   "source": [
    "module type Set = sig\n",
    "  type t\n",
    "  val to_string : t -> string\n",
    "end;;\n",
    "\n",
    "module type OrderedSet = sig\n",
    "   include Set\n",
    "   val compare : t -> t -> int\n",
    "end;;\n",
    "\n",
    "module IntSet : OrderedSet with type t = int = struct\n",
    "  type t = int\n",
    "  let to_string i = string_of_int i\n",
    "  let compare first second = Pervasives.compare first second\n",
    "end;;\n",
    "\n",
    "Pervasives.compare 1 2;;\n",
    "Pervasives.compare 2 1;;\n",
    "Pervasives.compare 1 1;;\n",
    "IntSet.compare;;\n",
    "IntSet.to_string 8;;"
   ]
  },
  {
   "cell_type": "code",
   "execution_count": 18,
   "metadata": {},
   "outputs": [
    {
     "data": {
      "text/plain": [
       "module type OrderedSet =\n",
       "  sig type t val to_string : t -> string val compare : t -> t -> int end\n"
      ]
     },
     "execution_count": 18,
     "metadata": {},
     "output_type": "execute_result"
    },
    {
     "data": {
      "text/plain": [
       "module IntSet :\n",
       "  sig\n",
       "    type t = int\n",
       "    val to_string : t -> string\n",
       "    val compare : t -> t -> int\n",
       "  end\n"
      ]
     },
     "execution_count": 18,
     "metadata": {},
     "output_type": "execute_result"
    }
   ],
   "source": [
    "module type OrderedSet = sig\n",
    "  include Set\n",
    "  val compare : t -> t -> int (* first > second then positive, otherwise negative*)\n",
    "end\n",
    "\n",
    "module IntSet : OrderedSet with type t = int = struct\n",
    "  type t = int\n",
    "  let compare = compare  (*val compare : 'a -> 'a -> int, from Module Pervasives*)\n",
    "  let to_string = string_of_int\n",
    "end"
   ]
  },
  {
   "cell_type": "code",
   "execution_count": 24,
   "metadata": {},
   "outputs": [
    {
     "data": {
      "text/plain": [
       "- : int = -1\n"
      ]
     },
     "execution_count": 24,
     "metadata": {},
     "output_type": "execute_result"
    },
    {
     "data": {
      "text/plain": [
       "- : int = 1\n"
      ]
     },
     "execution_count": 24,
     "metadata": {},
     "output_type": "execute_result"
    },
    {
     "data": {
      "text/plain": [
       "- : string = \"1\"\n"
      ]
     },
     "execution_count": 24,
     "metadata": {},
     "output_type": "execute_result"
    },
    {
     "data": {
      "text/plain": [
       "- : ('a -> 'b) -> 'a list -> 'b list = <fun>\n"
      ]
     },
     "execution_count": 24,
     "metadata": {},
     "output_type": "execute_result"
    },
    {
     "data": {
      "text/plain": [
       "- : ('a -> 'b -> 'a) -> 'a -> 'b list -> 'a = <fun>\n"
      ]
     },
     "execution_count": 24,
     "metadata": {},
     "output_type": "execute_result"
    },
    {
     "data": {
      "text/plain": [
       "- : IntSet.t -> string = <fun>\n"
      ]
     },
     "execution_count": 24,
     "metadata": {},
     "output_type": "execute_result"
    }
   ],
   "source": [
    "IntSet.compare 1 2;;\n",
    "IntSet.compare 2 0;;\n",
    "IntSet.to_string 1;;\n",
    "open List;;\n",
    "map;;\n",
    "fold_left;;\n",
    "open IntSet;;\n",
    "to_string;;"
   ]
  },
  {
   "cell_type": "markdown",
   "metadata": {},
   "source": [
    "$3$. Implement a functor `BTreeMap` that realizes the `Map` signature and uses a binary\n",
    "tree to store key-value-pairs. The functor takes key and value sets as arguments.\n",
    "(In my group eariler we had a version without module and functor)\n",
    "\n",
    "<br>\n",
    "Since (almost) everything in Ocaml is higher order, it is no surprise that\n",
    "there are modules of higher order: Functors.\n",
    "- A functor receives a sequence of modules as parameters.\n",
    "- The functor’s body is a module where the functor’s parameters can\n",
    "be used.\n",
    "- The result is a new module, which is defined relative to the\n",
    "modules passed as parameters."
   ]
  },
  {
   "cell_type": "code",
   "execution_count": 26,
   "metadata": {},
   "outputs": [
    {
     "data": {
      "text/plain": [
       "module type Set = sig type t val to_string : t -> string end\n"
      ]
     },
     "execution_count": 26,
     "metadata": {},
     "output_type": "execute_result"
    },
    {
     "data": {
      "text/plain": [
       "module type OrderedSet =\n",
       "  sig type t val to_string : t -> string val compare : t -> t -> int end\n"
      ]
     },
     "execution_count": 26,
     "metadata": {},
     "output_type": "execute_result"
    },
    {
     "data": {
      "text/plain": [
       "module type Map =\n",
       "  sig\n",
       "    type key\n",
       "    type value\n",
       "    type t\n",
       "    val empty : t\n",
       "    val set : key -> value -> t -> t\n",
       "    val get : key -> t -> value\n",
       "    val get_opt : key -> t -> value option\n",
       "    val to_string : t -> string\n",
       "  end\n"
      ]
     },
     "execution_count": 26,
     "metadata": {},
     "output_type": "execute_result"
    },
    {
     "data": {
      "text/plain": [
       "module BTreeMap :\n",
       "  functor (K : OrderedSet) (V : Set) ->\n",
       "    sig\n",
       "      type key = K.t\n",
       "      type value = V.t\n",
       "      type t\n",
       "      val empty : t\n",
       "      val set : key -> value -> t -> t\n",
       "      val get : key -> t -> value\n",
       "      val get_opt : key -> t -> value option\n",
       "      val to_string : t -> string\n",
       "    end\n"
      ]
     },
     "execution_count": 26,
     "metadata": {},
     "output_type": "execute_result"
    }
   ],
   "source": [
    "module type Set = sig\n",
    "  type t\n",
    "  val to_string : t -> string\n",
    "end\n",
    "\n",
    "module type OrderedSet = sig\n",
    "  include Set\n",
    "  val compare : t -> t -> int (* compare enable the map and btree*)\n",
    "end\n",
    "\n",
    "module type Map = sig\n",
    "  type key\n",
    "  type value\n",
    "  type t\n",
    "\n",
    "  val empty : t\n",
    "  val set : key -> value -> t -> t\n",
    "  val get : key -> t -> value\n",
    "  val get_opt : key -> t -> value option\n",
    "  val to_string : t -> string\n",
    "end\n",
    "\n",
    "(* OrderedSet, Set are sig*)\n",
    "\n",
    "(* Basic Structure *)\n",
    "module BTreeMap (K : OrderedSet) (V : Set) : Map\n",
    "          with type key = K.t and type value = V.t = struct\n",
    "  type key = K.t\n",
    "  type value = V.t\n",
    "  type t = Empty | Node of (key * value * t * t)\n",
    "\n",
    "  let empty = Empty\n",
    "  \n",
    "  (* impl set get get_opt *)\n",
    "  (* try to reuse K.compare to compare diff. keys *)\n",
    "  \n",
    "  let rec set k v t = \n",
    "    match t with Empty -> Node(k, v, Empty, Empty)\n",
    "      | Node (k', v', l, r) -> \n",
    "        let com = K.compare k k'\n",
    "        in\n",
    "        if com > 0 then Node(k', v', l, set k v r)\n",
    "        else if com < 0 then Node(k', v', set k v l, r)\n",
    "        else Node(k, v, l, r)\n",
    "    \n",
    "  let rec get_opt k t = \n",
    "    match t with Empty -> None\n",
    "      | Node (k', v', l, r) -> \n",
    "        let com = K.compare k k'\n",
    "        in \n",
    "        if com > 0 then get_opt k r\n",
    "        else if com < 0 then get_opt k l\n",
    "        else Some v'\n",
    "        \n",
    "  let get k t = \n",
    "    match get_opt k t with None -> raise Not_found\n",
    "      | Some v -> v\n",
    "  \n",
    "(* tree to a node list - keep ordered relation*)\n",
    "  let rec to_list = function Empty -> []\n",
    "    | Node (k, v, l, r) -> to_list l @ (k,v)::to_list r\n",
    "\n",
    "  let to_string m =\n",
    "    List.map (fun (k,v) -> K.to_string k ^ \" -> \" ^ V.to_string v) (to_list m)\n",
    "    |> String.concat \", \"\n",
    "    |> Printf.sprintf \"{ %s }\"\n",
    "end"
   ]
  },
  {
   "cell_type": "code",
   "execution_count": 19,
   "metadata": {},
   "outputs": [
    {
     "ename": "error",
     "evalue": "compile_error",
     "output_type": "error",
     "traceback": [
      "\u001b[32mFile \"[19]\", line 2, characters 53-500:\n\u001b[31mError: Signature mismatch:\n       ...\n       The value `get_opt' is required but not provided\n       File \"[17]\", line 19, characters 2-40: Expected declaration\n       The value `get' is required but not provided\n       File \"[17]\", line 18, characters 2-29: Expected declaration\n       The value `set' is required but not provided\n       File \"[17]\", line 17, characters 2-34: Expected declaration\n\u001b[36m   1: \u001b[30mmodule BTreeMap (K : OrderedSet) (V : Set) : Map\n\u001b[36m   2: \u001b[30m          with type key = K.t and type value = V.t = \u001b[4mstruct\u001b[0m\n\u001b[36m   3: \u001b[30m\u001b[4m  type key = K.t\u001b[0m\n\u001b[36m   4: \u001b[30m\u001b[4m  type value = V.t\u001b[0m\n\u001b[36m   5: \u001b[30m\u001b[4m  type t = Empty | Node of key * value * t * t\u001b[0m\n\u001b[36m   6: \u001b[30m\u001b[4m\u001b[0m\n\u001b[36m   7: \u001b[30m\u001b[4m  let empty = Empty\u001b[0m\n\u001b[36m   8: \u001b[30m\u001b[4m  \u001b[0m\n\u001b[36m   9: \u001b[30m\u001b[4m  (* more things here*)\u001b[0m\n\u001b[36m  10: \u001b[30m\u001b[4m  \u001b[0m\n\u001b[36m  11: \u001b[30m\u001b[4m(* tree to a node list - keep ordered relation*)\u001b[0m\n\u001b[36m  12: \u001b[30m\u001b[4m  let rec to_list = function Empty -> []\u001b[0m\n\u001b[36m  13: \u001b[30m\u001b[4m    | Node (k, v, l, r) -> to_list l @ (k,v)::to_list r\u001b[0m\n\u001b[36m  14: \u001b[30m\u001b[4m\u001b[0m\n\u001b[36m  15: \u001b[30m\u001b[4m  let to_string m =\u001b[0m\n\u001b[36m  16: \u001b[30m\u001b[4m    List.map (fun (k,v) -> K.to_string k ^ \" -> \" ^ V.to_string v) (to_list m)\u001b[0m\n\u001b[36m  17: \u001b[30m\u001b[4m    |> String.concat \", \"\u001b[0m\n\u001b[36m  18: \u001b[30m\u001b[4m    |> Printf.sprintf \"{ %s }\"\u001b[0m\n\u001b[36m  19: \u001b[30m\u001b[4mend\u001b[0m\n"
     ]
    }
   ],
   "source": [
    "(* OrderedSet, Set are sig*)\n",
    "\n",
    "(* Basic Structure *)\n",
    "module BTreeMap (K : OrderedSet) (V : Set) : Map\n",
    "          with type key = K.t and type value = V.t = struct\n",
    "  type key = K.t\n",
    "  type value = V.t\n",
    "  type t = Empty | Node of key * value * t * t\n",
    "\n",
    "  let empty = Empty\n",
    "  \n",
    "  (* more things here*)\n",
    "  let rec set k v t = \n",
    "      match t with Empty -> Node(k, v, Empty, Empty)\n",
    "    | Node(k', v', l, r) ->\n",
    "      let comp = K.compare k k'\n",
    "      in\n",
    "      if comp < 0 then Node(k', v', set k v l, r)\n",
    "      else if comp > 0 then Node(k', v', l, set k v r)\n",
    "      else Node(k', v, l, r)\n",
    "  \n",
    "(* tree to a node list - keep ordered relation*)\n",
    "  let rec to_list = function Empty -> []\n",
    "    | Node (k, v, l, r) -> to_list l @ (k,v)::to_list r\n",
    "\n",
    "  let to_string m =\n",
    "    List.map (fun (k,v) -> K.to_string k ^ \" -> \" ^ V.to_string v) (to_list m)\n",
    "    |> String.concat \", \"\n",
    "    |> Printf.sprintf \"{ %s }\"\n",
    "end"
   ]
  },
  {
   "cell_type": "code",
   "execution_count": 58,
   "metadata": {},
   "outputs": [
    {
     "data": {
      "text/plain": [
       "module BTreeMap :\n",
       "  functor (K : OrderedSet) (V : Set) ->\n",
       "    sig\n",
       "      type key = K.t\n",
       "      type value = V.t\n",
       "      type t\n",
       "      val empty : t\n",
       "      val set : key -> value -> t -> t\n",
       "      val get : key -> t -> value\n",
       "      val get_opt : key -> t -> value option\n",
       "      val to_string : t -> string\n",
       "    end\n"
      ]
     },
     "execution_count": 58,
     "metadata": {},
     "output_type": "execute_result"
    }
   ],
   "source": [
    "module BTreeMap (K : OrderedSet) (V : Set) : Map\n",
    "          with type key = K.t and type value = V.t = struct\n",
    "  type key = K.t\n",
    "  type value = V.t\n",
    "  type t = Empty | Node of key * value * t * t\n",
    "\n",
    "  let empty = Empty\n",
    "\n",
    "  let rec set k v t = \n",
    "   match t with Empty -> Node (k, v, Empty, Empty)\n",
    "     | Node (k', v', l, r) ->\n",
    "      let diff = K.compare k k' in\n",
    "      if diff < 0 then Node (k', v', set k v l, r)\n",
    "      else if diff > 0 then Node (k', v', l, set k v r)\n",
    "      else Node (k', v, l, r) (*reset the value*)\n",
    "\n",
    "  let rec get_opt k t = \n",
    "   match t with Empty -> None\n",
    "    | Node (k', v, l, r) ->\n",
    "      let diff = K.compare k k' in\n",
    "      if diff < 0 then get_opt k l\n",
    "      else if diff > 0 then get_opt k r\n",
    "      else Some v\n",
    "\n",
    "  let get k m = match get_opt k m with Some v -> v\n",
    "    | None -> raise Not_found\n",
    "\n",
    "  (* tree to a node list - keep ordered relation*)\n",
    "  let rec to_list = function Empty -> []\n",
    "    | Node (k, v, l, r) -> to_list l @ (k,v)::to_list r\n",
    "\n",
    "  let to_string m =\n",
    "    List.map (fun (k,v) -> K.to_string k ^ \" -> \" ^ V.to_string v) (to_list m)\n",
    "    |> String.concat \", \"\n",
    "    |> Printf.sprintf \"{ %s }\"\n",
    "end"
   ]
  },
  {
   "cell_type": "markdown",
   "metadata": {},
   "source": [
    "$4$. Implement a `StringSet` and an `ordered IntSet` module.\n"
   ]
  },
  {
   "cell_type": "code",
   "execution_count": 30,
   "metadata": {},
   "outputs": [
    {
     "data": {
      "text/plain": [
       "module StringSet : sig type t = string val to_string : t -> string end\n"
      ]
     },
     "execution_count": 30,
     "metadata": {},
     "output_type": "execute_result"
    },
    {
     "data": {
      "text/plain": [
       "module IntSet :\n",
       "  sig\n",
       "    type t = int\n",
       "    val to_string : t -> string\n",
       "    val compare : t -> t -> int\n",
       "  end\n"
      ]
     },
     "execution_count": 30,
     "metadata": {},
     "output_type": "execute_result"
    }
   ],
   "source": [
    "(* implement the sig *)\n",
    "\n",
    "module StringSet : Set with type t = string = struct\n",
    "  type t = string\n",
    "  let to_string s = \"\\\"\" ^ s ^ \"\\\"\"\n",
    "end\n",
    "\n",
    "module IntSet : OrderedSet with type t = int = struct\n",
    "  type t = int\n",
    "  let compare = compare\n",
    "  let to_string = string_of_int\n",
    "end"
   ]
  },
  {
   "cell_type": "markdown",
   "metadata": {},
   "source": [
    "$5$. Use the `BTreeMap` functor to define modules for **int-to-string** and **int-to-int maps**."
   ]
  },
  {
   "cell_type": "code",
   "execution_count": 33,
   "metadata": {},
   "outputs": [
    {
     "data": {
      "text/plain": [
       "module IntStringMap :\n",
       "  sig\n",
       "    type key = IntSet.t\n",
       "    type value = StringSet.t\n",
       "    type t = BTreeMap(IntSet)(StringSet).t\n",
       "    val empty : t\n",
       "    val set : key -> value -> t -> t\n",
       "    val get : key -> t -> value\n",
       "    val get_opt : key -> t -> value option\n",
       "    val to_string : t -> string\n",
       "  end\n"
      ]
     },
     "execution_count": 33,
     "metadata": {},
     "output_type": "execute_result"
    },
    {
     "data": {
      "text/plain": [
       "module IntIntMap :\n",
       "  sig\n",
       "    type key = IntSet.t\n",
       "    type value = IntSet.t\n",
       "    type t = BTreeMap(IntSet)(IntSet).t\n",
       "    val empty : t\n",
       "    val set : key -> value -> t -> t\n",
       "    val get : key -> t -> value\n",
       "    val get_opt : key -> t -> value option\n",
       "    val to_string : t -> string\n",
       "  end\n"
      ]
     },
     "execution_count": 33,
     "metadata": {},
     "output_type": "execute_result"
    }
   ],
   "source": [
    "module IntStringMap = BTreeMap(IntSet)(StringSet)\n",
    "module IntIntMap = BTreeMap(IntSet)(IntSet)\n",
    "\n",
    "(* Now we have something to play with *)"
   ]
  },
  {
   "cell_type": "code",
   "execution_count": 31,
   "metadata": {},
   "outputs": [
    {
     "data": {
      "text/plain": [
       "module PAMap :\n",
       "  functor (V : Set) ->\n",
       "    sig\n",
       "      type key = IntSet.t\n",
       "      type value = V.t\n",
       "      type t = BTreeMap(IntSet)(V).t\n",
       "      val empty : t\n",
       "      val set : key -> value -> t -> t\n",
       "      val get : key -> t -> value\n",
       "      val get_opt : key -> t -> value option\n",
       "      val to_string : t -> string\n",
       "    end\n"
      ]
     },
     "execution_count": 31,
     "metadata": {},
     "output_type": "execute_result"
    }
   ],
   "source": [
    "module PAMap = BTreeMap(IntSet);;"
   ]
  },
  {
   "cell_type": "code",
   "execution_count": 34,
   "metadata": {},
   "outputs": [
    {
     "data": {
      "text/plain": [
       "val t : IntIntMap.t = <abstr>\n"
      ]
     },
     "execution_count": 34,
     "metadata": {},
     "output_type": "execute_result"
    },
    {
     "name": "stdout",
     "output_type": "stream",
     "text": [
      "{  }\n"
     ]
    },
    {
     "data": {
      "text/plain": [
       "- : unit = ()\n"
      ]
     },
     "execution_count": 34,
     "metadata": {},
     "output_type": "execute_result"
    },
    {
     "data": {
      "text/plain": [
       "val t : IntIntMap.t = <abstr>\n"
      ]
     },
     "execution_count": 34,
     "metadata": {},
     "output_type": "execute_result"
    },
    {
     "data": {
      "text/plain": [
       "val t : IntIntMap.t = <abstr>\n"
      ]
     },
     "execution_count": 34,
     "metadata": {},
     "output_type": "execute_result"
    },
    {
     "data": {
      "text/plain": [
       "val t : IntIntMap.t = <abstr>\n"
      ]
     },
     "execution_count": 34,
     "metadata": {},
     "output_type": "execute_result"
    },
    {
     "data": {
      "text/plain": [
       "val t : IntIntMap.t = <abstr>\n"
      ]
     },
     "execution_count": 34,
     "metadata": {},
     "output_type": "execute_result"
    },
    {
     "name": "stdout",
     "output_type": "stream",
     "text": [
      "{ 1 -> 1, 2 -> 4, 3 -> 9, 4 -> 16 }\n"
     ]
    },
    {
     "data": {
      "text/plain": [
       "- : unit = ()\n"
      ]
     },
     "execution_count": 34,
     "metadata": {},
     "output_type": "execute_result"
    }
   ],
   "source": [
    "let t = IntIntMap.empty;;\n",
    "print_endline(IntIntMap.to_string t);;\n",
    "let t = IntIntMap.set 1 1 t;;\n",
    "let t = IntIntMap.set 2 4 t;;\n",
    "let t = IntIntMap.set 3 9 t;;\n",
    "let t = IntIntMap.set 4 16 t;;\n",
    "print_endline(IntIntMap.to_string t);;"
   ]
  },
  {
   "cell_type": "code",
   "execution_count": 54,
   "metadata": {},
   "outputs": [
    {
     "data": {
      "text/plain": [
       "val ii_tree : IntIntMap.t = <abstr>\n"
      ]
     },
     "execution_count": 54,
     "metadata": {},
     "output_type": "execute_result"
    },
    {
     "name": "stdout",
     "output_type": "stream",
     "text": [
      "{ 1 -> 1, 2 -> 4, 3 -> 9, 4 -> 16 }\n"
     ]
    },
    {
     "data": {
      "text/plain": [
       "- : unit = ()\n"
      ]
     },
     "execution_count": 54,
     "metadata": {},
     "output_type": "execute_result"
    }
   ],
   "source": [
    "(* or use a List.fold_left*)\n",
    "let ii_tree = List.fold_left (fun tree key -> IntIntMap.set key (key * key) tree) IntIntMap.empty [1;2;3;4];;\n",
    "print_endline(IntIntMap.to_string ii_tree);;"
   ]
  },
  {
   "cell_type": "markdown",
   "metadata": {},
   "source": [
    "$6$. Insert some values into an **int-to-int** map and **int-to-string** map and print its string representation.\n"
   ]
  },
  {
   "cell_type": "code",
   "execution_count": 35,
   "metadata": {},
   "outputs": [
    {
     "data": {
      "text/plain": [
       "val values : int list = [2; 4; 6; 7; 8; 31]\n"
      ]
     },
     "execution_count": 35,
     "metadata": {},
     "output_type": "execute_result"
    },
    {
     "data": {
      "text/plain": [
       "val ii : IntIntMap.t = <abstr>\n"
      ]
     },
     "execution_count": 35,
     "metadata": {},
     "output_type": "execute_result"
    },
    {
     "name": "stdout",
     "output_type": "stream",
     "text": [
      "{ 2 -> 4, 4 -> 16, 6 -> 36, 7 -> 49, 8 -> 64, 31 -> 961 }\n"
     ]
    },
    {
     "data": {
      "text/plain": [
       "- : unit = ()\n"
      ]
     },
     "execution_count": 35,
     "metadata": {},
     "output_type": "execute_result"
    },
    {
     "data": {
      "text/plain": [
       "val m : IntStringMap.t = <abstr>\n"
      ]
     },
     "execution_count": 35,
     "metadata": {},
     "output_type": "execute_result"
    },
    {
     "name": "stdout",
     "output_type": "stream",
     "text": [
      "{ 2 -> \"4\", 4 -> \"16\", 6 -> \"36\", 7 -> \"49\", 8 -> \"64\", 31 -> \"961\" }\n"
     ]
    },
    {
     "data": {
      "text/plain": [
       "- : unit = ()\n"
      ]
     },
     "execution_count": 35,
     "metadata": {},
     "output_type": "execute_result"
    }
   ],
   "source": [
    "\n",
    "let values = [2;4;6;7;8;31]\n",
    "\n",
    "let ii = List.fold_left (fun m k -> IntIntMap.set k (k * k) m) IntIntMap.empty values\n",
    "let _ = print_endline (IntIntMap.to_string ii)\n",
    "\n",
    "let m = List.fold_left (fun m k -> IntStringMap.set k (string_of_int (k * k)) m) IntStringMap.empty values\n",
    "let _ = print_endline (IntStringMap.to_string m)"
   ]
  },
  {
   "cell_type": "code",
   "execution_count": null,
   "metadata": {},
   "outputs": [],
   "source": []
  },
  {
   "cell_type": "code",
   "execution_count": null,
   "metadata": {},
   "outputs": [],
   "source": []
  },
  {
   "cell_type": "code",
   "execution_count": null,
   "metadata": {},
   "outputs": [],
   "source": []
  },
  {
   "cell_type": "code",
   "execution_count": null,
   "metadata": {},
   "outputs": [],
   "source": []
  }
 ],
 "metadata": {
  "kernelspec": {
   "display_name": "OCaml 4.05.0",
   "language": "OCaml",
   "name": "ocaml-jupyter"
  },
  "language_info": {
   "codemirror_mode": "text/x-ocaml",
   "file_extension": ".ml",
   "mimetype": "text/x-ocaml",
   "name": "OCaml",
   "nbconverter_exporter": null,
   "pygments_lexer": "OCaml",
   "version": "4.05.0"
  }
 },
 "nbformat": 4,
 "nbformat_minor": 2
}
